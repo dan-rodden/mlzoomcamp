{
 "cells": [
  {
   "cell_type": "markdown",
   "id": "8f3bc838",
   "metadata": {},
   "source": [
    "# Homework 1 - MLZoomcamp 2025"
   ]
  },
  {
   "cell_type": "code",
   "execution_count": 5,
   "id": "c98a918f",
   "metadata": {},
   "outputs": [],
   "source": [
    "import numpy as np\n",
    "import pandas as pd"
   ]
  },
  {
   "cell_type": "markdown",
   "id": "13eddcb2",
   "metadata": {},
   "source": [
    "Q1. Pandas version\n",
    "What's the version of Pandas that you installed?\n",
    "\n",
    "You can get the version information using the __version__ field:"
   ]
  },
  {
   "cell_type": "code",
   "execution_count": 6,
   "id": "87e7c0d9",
   "metadata": {},
   "outputs": [
    {
     "data": {
      "text/plain": [
       "'2.2.3'"
      ]
     },
     "execution_count": 6,
     "metadata": {},
     "output_type": "execute_result"
    }
   ],
   "source": [
    "pd.__version__"
   ]
  },
  {
   "cell_type": "markdown",
   "id": "4b0822a1",
   "metadata": {},
   "source": [
    "Getting the data\n",
    "For this homework, we'll use the Car Fuel Efficiency dataset. Download it from here.\n",
    "\n",
    "You can do it with wget:"
   ]
  },
  {
   "cell_type": "code",
   "execution_count": 11,
   "id": "c375c451",
   "metadata": {},
   "outputs": [
    {
     "name": "stdout",
     "output_type": "stream",
     "text": [
      "  % Total    % Received % Xferd  Average Speed   Time    Time     Time  Current\n",
      "                                 Dload  Upload   Total   Spent    Left  Speed\n",
      "100  853k  100  853k    0     0  1272k      0 --:--:-- --:--:-- --:--:-- 1283k\n"
     ]
    }
   ],
   "source": [
    "!curl -o ../datasets/car_fuel_efficiency.csv https://raw.githubusercontent.com/alexeygrigorev/datasets/master/car_fuel_efficiency.csv "
   ]
  },
  {
   "cell_type": "markdown",
   "id": "bcf70a15",
   "metadata": {},
   "source": [
    "Q2. Records count\n",
    "\n",
    "How many records are in the dataset?\n",
    "__9704__"
   ]
  },
  {
   "cell_type": "code",
   "execution_count": 12,
   "id": "e2fff857",
   "metadata": {},
   "outputs": [
    {
     "data": {
      "text/plain": [
       "9704"
      ]
     },
     "execution_count": 12,
     "metadata": {},
     "output_type": "execute_result"
    }
   ],
   "source": [
    "cars_df = pd.read_csv(\"../datasets/car_fuel_efficiency.csv\")\n",
    "cars_df.shape[0]"
   ]
  },
  {
   "cell_type": "markdown",
   "id": "8d02862d",
   "metadata": {},
   "source": [
    "Q3. Fuel types\n",
    "\n",
    "How many fuel types are presented in the dataset?\n",
    "__2__"
   ]
  },
  {
   "cell_type": "code",
   "execution_count": 16,
   "id": "5eee928a",
   "metadata": {},
   "outputs": [
    {
     "data": {
      "text/plain": [
       "2"
      ]
     },
     "execution_count": 16,
     "metadata": {},
     "output_type": "execute_result"
    }
   ],
   "source": [
    "cars_df.fuel_type.value_counts().shape[0]"
   ]
  },
  {
   "cell_type": "markdown",
   "id": "8e6b42cc",
   "metadata": {},
   "source": [
    "Q4. Missing values\n",
    "\n",
    "How many columns in the dataset have missing values?\n",
    "__4 columns have missing values__"
   ]
  },
  {
   "cell_type": "code",
   "execution_count": 22,
   "id": "95f264d0",
   "metadata": {},
   "outputs": [
    {
     "data": {
      "text/plain": [
       "engine_displacement      0\n",
       "num_cylinders          482\n",
       "horsepower             708\n",
       "vehicle_weight           0\n",
       "acceleration           930\n",
       "model_year               0\n",
       "origin                   0\n",
       "fuel_type                0\n",
       "drivetrain               0\n",
       "num_doors              502\n",
       "fuel_efficiency_mpg      0\n",
       "dtype: int64"
      ]
     },
     "execution_count": 22,
     "metadata": {},
     "output_type": "execute_result"
    }
   ],
   "source": [
    "cars_df.isna().sum()"
   ]
  },
  {
   "cell_type": "markdown",
   "id": "6449c896",
   "metadata": {},
   "source": [
    "Q5. Max fuel efficiency\n",
    "\n",
    "What's the maximum fuel efficiency of cars from Asia?\n",
    "__np.float64(23.759122836520497)__"
   ]
  },
  {
   "cell_type": "code",
   "execution_count": 26,
   "id": "c124cb77",
   "metadata": {},
   "outputs": [
    {
     "name": "stdout",
     "output_type": "stream",
     "text": [
      "Index(['engine_displacement', 'num_cylinders', 'horsepower', 'vehicle_weight',\n",
      "       'acceleration', 'model_year', 'origin', 'fuel_type', 'drivetrain',\n",
      "       'num_doors', 'fuel_efficiency_mpg'],\n",
      "      dtype='object')\n"
     ]
    },
    {
     "data": {
      "text/plain": [
       "np.float64(23.759122836520497)"
      ]
     },
     "execution_count": 26,
     "metadata": {},
     "output_type": "execute_result"
    }
   ],
   "source": [
    "print(cars_df.columns)\n",
    "cars_df.fuel_efficiency_mpg[(cars_df.origin == \"Asia\")].max()"
   ]
  },
  {
   "cell_type": "markdown",
   "id": "e656990a",
   "metadata": {},
   "source": [
    "Q6. Median value of horsepower\n",
    "\n",
    "1. Find the median value of horsepower column in the dataset.\n",
    "2. Next, calculate the most frequent value of the same horsepower column.\n",
    "3. Use fillna method to fill the missing values in horsepower column with the most frequent value from the previous step.\n",
    "4. Now, calculate the median value of horsepower once again.\n",
    "\n",
    "Has it changed?\n",
    "__Yes, it increased.__"
   ]
  },
  {
   "cell_type": "code",
   "execution_count": 43,
   "id": "a3782838",
   "metadata": {},
   "outputs": [
    {
     "name": "stdout",
     "output_type": "stream",
     "text": [
      "Median horsepower:  149.0\n",
      "Mode horserpower:  0    152.0\n",
      "Name: horsepower, dtype: float64\n",
      "New median value:  152.0\n"
     ]
    },
    {
     "data": {
      "text/plain": [
       "horsepower\n",
       "152.0    142\n",
       "145.0    141\n",
       "151.0    134\n",
       "148.0    130\n",
       "141.0    130\n",
       "        ... \n",
       "46.0       1\n",
       "43.0       1\n",
       "53.0       1\n",
       "66.0       1\n",
       "61.0       1\n",
       "Name: count, Length: 192, dtype: int64"
      ]
     },
     "execution_count": 43,
     "metadata": {},
     "output_type": "execute_result"
    }
   ],
   "source": [
    "# check out value_counts for horsepower\n",
    "\n",
    "print(\"Median horsepower: \", cars_df.horsepower.median())\n",
    "print(\"Mode horserpower: \", cars_df.horsepower.mode())\n",
    "horsepower_mode = cars_df.horsepower.mode().iloc[0]\n",
    "# fill in missing values with the mode found \n",
    "print(\"New median value: \", cars_df.horsepower.fillna(horsepower_mode).median())\n",
    "\n",
    "cars_df.horsepower.value_counts()\n"
   ]
  },
  {
   "cell_type": "markdown",
   "id": "45d818c4",
   "metadata": {},
   "source": [
    "Q7. Sum of weights\n",
    "\n",
    "1. Select all the cars from Asia\n",
    "2. Select only columns `vehicle_weight` and `model_year`\n",
    "3. Select the first 7 values\n",
    "4. Get the underlying NumPy array. Let's call it `X`.\n",
    "5. Compute matrix-matrix multiplication between the transpose of `X` and `X`. To get the transpose, use `X.T`. Let's call the result `XTX`.\n",
    "6. Invert `XTX`.\n",
    "7. Create an array `y` with values `[1100, 1300, 800, 900, 1000, 1100, 1200]`.\n",
    "8. Multiply the inverse of `XTX` with the transpose of `X`, and then multiply the result by `y`. Call the result `w`.\n",
    "9. What's the sum of all the elements of the result?\n",
    "\n",
    "__np.float64(0.5187709081074023)__"
   ]
  },
  {
   "cell_type": "code",
   "execution_count": 61,
   "id": "4a88274f",
   "metadata": {},
   "outputs": [
    {
     "data": {
      "text/plain": [
       "np.float64(0.5187709081074023)"
      ]
     },
     "execution_count": 61,
     "metadata": {},
     "output_type": "execute_result"
    }
   ],
   "source": [
    "# subset the df\n",
    "subset = cars_df.loc[cars_df.origin == 'Asia', ['vehicle_weight', 'model_year']]\n",
    "\n",
    "# get the first seven\n",
    "X = subset.iloc[:7, ].to_numpy()\n",
    "XT = X.T\n",
    "\n",
    "# matrix multiplication\n",
    "XTX = np.dot(X.T, X)\n",
    "XTX_inv = np.linalg.inv(XTX)\n",
    "XTX_inv\n",
    "\n",
    "# get response\n",
    "y = [1100, 1300, 800, 900, 1000, 1100, 1200]\n",
    "\n",
    "w = np.dot(XTX_inv, X.T) * y\n",
    "w.sum()"
   ]
  }
 ],
 "metadata": {
  "kernelspec": {
   "display_name": "ml-zoomcamp",
   "language": "python",
   "name": "python3"
  },
  "language_info": {
   "codemirror_mode": {
    "name": "ipython",
    "version": 3
   },
   "file_extension": ".py",
   "mimetype": "text/x-python",
   "name": "python",
   "nbconvert_exporter": "python",
   "pygments_lexer": "ipython3",
   "version": "3.11.11"
  }
 },
 "nbformat": 4,
 "nbformat_minor": 5
}
